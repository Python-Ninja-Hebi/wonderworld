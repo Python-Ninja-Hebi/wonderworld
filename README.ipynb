{
 "cells": [
  {
   "cell_type": "markdown",
   "id": "f3f374ee-78f2-4c76-bd7c-53fe608c9ade",
   "metadata": {},
   "source": [
    "# wonderworld - Data-oriented Python Game Engine"
   ]
  },
  {
   "cell_type": "markdown",
   "id": "fce9d0b5-0b81-4048-ab23-d48138f3601e",
   "metadata": {},
   "source": [
    "<img src=\"img/logo.png\" width=\"128\" align=\"left\"><br><br><br><br><br><br>"
   ]
  },
  {
   "cell_type": "markdown",
   "id": "ae0b1338-2a91-40a3-a5c7-f9aa1ce2638b",
   "metadata": {},
   "source": [
    "* **Game Engine** implemented on **Database Engine (in memory with pandas)**\n",
    "* **world** is a **database**\n",
    "* **archetype** is a **table**\n",
    "* **entity** is a **row(id)**\n",
    "* **componenten** is one **column**\n",
    "* **system** is a **function**\n",
    "* **query** is a **database query**"
   ]
  },
  {
   "cell_type": "markdown",
   "id": "f4e8bd63-0105-43b4-a2e4-47b4388a08e3",
   "metadata": {},
   "source": [
    "*I have long wanted to program games in Pygame using the Entity Component System (ECS) game design pattern. Once when I looked at the Bevy game framework in Rust, I was hooked. I wanted something like that in Python too.\n",
    "Since I couldn't find such a framework anywhere, I started developing a Python ECS framework myself -* **wonderworld**"
   ]
  },
  {
   "cell_type": "markdown",
   "id": "ab577b53-d604-4cf3-9a87-d7b41b87a272",
   "metadata": {},
   "source": [
    "## Entity Component System ECS"
   ]
  },
  {
   "cell_type": "markdown",
   "id": "a57006ef-0e7b-4072-8e91-5aabfc739eae",
   "metadata": {},
   "source": [
    "The data-oriented programming (DOP) approach tries to strictly separate data and program from each other."
   ]
  },
  {
   "cell_type": "markdown",
   "id": "bd482601-3598-4e57-a583-13eaf344f983",
   "metadata": {},
   "source": [
    "One way to do this is with the **Entity Component System** (ECS) design pattern.\n",
    "\n",
    "A **component** in the ECS design pattern contains only data.\n",
    "\n",
    "Examples:\n",
    "\n",
    "* Transform(x,y) - TransformComponent\n",
    "* Speed (x,y) - SpeedComponent\n",
    "* Sprite(image) - ImageComponent\n",
    "\n",
    "A component does not contain any processing logic.\n",
    "\n",
    "An **entity** is a game object, such as the knight. It consists of any number of components and does not itself contain any data or program logic. A unique ID linked to the components via an internal data structure is sufficient for the implementation of an entity.\n",
    "\n",
    "A **system** contains the complete processing logic, but no own data. A game can consist of any number of systems. A system reads components and transforms their current state into another.\n",
    "\n",
    "For example, the **Movement system** retrieves all speed components (SpeedComponents) and transform components (PositionComponent) in order to calculate the new position from them."
   ]
  },
  {
   "cell_type": "markdown",
   "id": "7034ab26-5c14-4ae2-9ee3-851234071c10",
   "metadata": {},
   "source": [
    "<img src=\"img/system.png\" width=\"512\"  hspace=20 align=\"left\"><br><br><br><br><br><br>"
   ]
  },
  {
   "cell_type": "markdown",
   "id": "20592fa5-ca08-4a80-869b-29af74851808",
   "metadata": {},
   "source": [
    "## Bevy"
   ]
  },
  {
   "cell_type": "markdown",
   "id": "589a0967-1a23-4987-84a0-d8eb00973a60",
   "metadata": {},
   "source": [
    "<img src=\"https://bevyengine.org/assets/bevy_logo_dark.svg\" width=\"256\" style=\"background-color:black;\" hspace=20 align=\"left\"><br><br><br><br><br><br>"
   ]
  },
  {
   "cell_type": "markdown",
   "id": "af81b4c4-0f8e-4b9a-a6e1-26b02dbc6982",
   "metadata": {},
   "source": [
    "https://bevyengine.org"
   ]
  },
  {
   "cell_type": "markdown",
   "id": "52f5c455-9b0e-4b53-8598-bde0ef661808",
   "metadata": {},
   "source": [
    "## pygame"
   ]
  },
  {
   "cell_type": "markdown",
   "id": "c9bd7ff7-6124-4061-8601-1a285e5d0aca",
   "metadata": {},
   "source": [
    "<img src=\"https://www.pygame.org/images/logo_lofi.png\" width=\"256\" style=\"background-color:black;\" hspace=20 align=\"left\"><br><br><br><br><br><br>"
   ]
  },
  {
   "cell_type": "markdown",
   "id": "adc227f6-e595-4fd9-b6e3-0f24dfe5f2a6",
   "metadata": {},
   "source": [
    "https://www.pygame.org"
   ]
  },
  {
   "cell_type": "markdown",
   "id": "8225736a-f412-44ef-917a-d5d42898b435",
   "metadata": {},
   "source": [
    "## Example first.py"
   ]
  },
  {
   "cell_type": "markdown",
   "id": "ce973014-a027-4cf9-886a-dd379b9bc8aa",
   "metadata": {},
   "source": [
    "<img src=\"img/first.gif\" width=\"256\" align=\"left\"><br><br><br><br><br><br>"
   ]
  },
  {
   "cell_type": "code",
   "execution_count": 2,
   "id": "c6d9c7c3-b869-494b-b7df-71ede81b51c6",
   "metadata": {},
   "outputs": [
    {
     "name": "stdout",
     "output_type": "stream",
     "text": [
      "pygame 2.1.2 (SDL 2.0.18, Python 3.9.16)\n",
      "Hello from the pygame community. https://www.pygame.org/contribute.html\n"
     ]
    }
   ],
   "source": [
    "%gui qt\n",
    "from wonderworld import *\n",
    "\n",
    "PADDLE_VELOCITY:float = 180.0\n",
    "\n",
    "@dataclass\n",
    "class Paddle(Component):\n",
    "    pass\n",
    "\n",
    "\n",
    "def setup():\n",
    "    commands = get_commands()\n",
    "    assets = get_resource(Assets)\n",
    "\n",
    "    image_handle = assets.add(create_image(color=pygame.Color('white'),\n",
    "                                              size=Vector2(10.0, 100.0)))\n",
    "\n",
    "    #camera\n",
    "    commands.spawn(Camera2dBundle(camera=Camera(),\n",
    "                                  transform=Transform(translation=Vector3(0,0,0),\n",
    "                                                      rotation=0,\n",
    "                                                      scale=Vector2(0,0))))\n",
    "\n",
    "    #paddle\n",
    "    commands.spawn(SpriteBundle(sprite = Sprite (image=image_handle),\n",
    "                                transform = Transform(translation=Vector3(100,100,0),\n",
    "                                                      rotation=0,\n",
    "                                                      scale=Vector2(0,0)),\n",
    "                                visibility=Visibility(True)))\\\n",
    "        .insert(Paddle())\n",
    "\n",
    "\n",
    "def input():\n",
    "    time = get_resource(Time)\n",
    "    keyboard_input = get_resource(Keyboard)\n",
    "\n",
    "    for transform, in Query(Transform, With(Paddle)):\n",
    "        paddle_move = time.delta_seconds * PADDLE_VELOCITY\n",
    "        if keyboard_input.pressed(K_UP):\n",
    "            transform.translation.y = transform.translation.y - paddle_move\n",
    "\n",
    "        if keyboard_input.pressed(K_DOWN):\n",
    "            transform.translation.y =transform.translation.y + paddle_move\n",
    "\n",
    "\n",
    "if __name__ == \"__main__\":\n",
    "    App().insert_resource(ClearColor(pygame.Color('black')))\\\n",
    "        .add_plugins(DefaultPlugins())\\\n",
    "        .add_startup_system(setup)\\\n",
    "        .add_system(input)\\\n",
    "        .run()"
   ]
  },
  {
   "cell_type": "markdown",
   "id": "67145359-33b5-41c6-af74-c71681bd9734",
   "metadata": {},
   "source": [
    "## Example ping.py"
   ]
  },
  {
   "cell_type": "code",
   "execution_count": null,
   "id": "b7856bd8-3958-497d-bec8-9bbf04e0d884",
   "metadata": {},
   "outputs": [],
   "source": []
  },
  {
   "cell_type": "code",
   "execution_count": null,
   "id": "d55e968e-f43b-4e60-b5cc-68ea1e615576",
   "metadata": {},
   "outputs": [],
   "source": []
  },
  {
   "cell_type": "markdown",
   "id": "c9a06c9b-eb2a-42b9-9aed-03659c2321c9",
   "metadata": {},
   "source": [
    "* Let's build an Entity Component System from scratch (part 1) https://devlog.hexops.com/2022/lets-build-ecs-part-1/\n",
    "* Let's build an Entity Component System (part 2): databases https://devlog.hexops.com/2022/lets-build-ecs-part-2-databases/"
   ]
  },
  {
   "cell_type": "code",
   "execution_count": null,
   "id": "51de7e74-6cc1-4231-9bfe-7b07acf68ea7",
   "metadata": {},
   "outputs": [],
   "source": []
  }
 ],
 "metadata": {
  "kernelspec": {
   "display_name": "Python 3 (ipykernel)",
   "language": "python",
   "name": "python3"
  },
  "language_info": {
   "codemirror_mode": {
    "name": "ipython",
    "version": 3
   },
   "file_extension": ".py",
   "mimetype": "text/x-python",
   "name": "python",
   "nbconvert_exporter": "python",
   "pygments_lexer": "ipython3",
   "version": "3.9.16"
  }
 },
 "nbformat": 4,
 "nbformat_minor": 5
}
